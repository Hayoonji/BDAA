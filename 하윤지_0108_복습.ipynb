{
 "cells": [
  {
   "cell_type": "markdown",
   "id": "c51d7cc2",
   "metadata": {},
   "source": [
    "# 데이터프레임과 시리즈에 대해서 확인하기"
   ]
  },
  {
   "cell_type": "code",
   "execution_count": 2,
   "id": "6bf6efbd",
   "metadata": {},
   "outputs": [],
   "source": [
    "import pandas as pd\n",
    "df_cl=pd.DataFrame({'class':['1반','2반','3반'],\n",
    "                   'name':['홍길동','김영희','김철수'],\n",
    "                    '영어':[50,60,70],\n",
    "                     '수학':[100,90,80]})"
   ]
  },
  {
   "cell_type": "code",
   "execution_count": 3,
   "id": "22f7fc8f",
   "metadata": {},
   "outputs": [
    {
     "data": {
      "text/html": [
       "<div>\n",
       "<style scoped>\n",
       "    .dataframe tbody tr th:only-of-type {\n",
       "        vertical-align: middle;\n",
       "    }\n",
       "\n",
       "    .dataframe tbody tr th {\n",
       "        vertical-align: top;\n",
       "    }\n",
       "\n",
       "    .dataframe thead th {\n",
       "        text-align: right;\n",
       "    }\n",
       "</style>\n",
       "<table border=\"1\" class=\"dataframe\">\n",
       "  <thead>\n",
       "    <tr style=\"text-align: right;\">\n",
       "      <th></th>\n",
       "      <th>class</th>\n",
       "      <th>name</th>\n",
       "      <th>영어</th>\n",
       "      <th>수학</th>\n",
       "    </tr>\n",
       "  </thead>\n",
       "  <tbody>\n",
       "    <tr>\n",
       "      <th>0</th>\n",
       "      <td>1반</td>\n",
       "      <td>홍길동</td>\n",
       "      <td>50</td>\n",
       "      <td>100</td>\n",
       "    </tr>\n",
       "    <tr>\n",
       "      <th>1</th>\n",
       "      <td>2반</td>\n",
       "      <td>김영희</td>\n",
       "      <td>60</td>\n",
       "      <td>90</td>\n",
       "    </tr>\n",
       "    <tr>\n",
       "      <th>2</th>\n",
       "      <td>3반</td>\n",
       "      <td>김철수</td>\n",
       "      <td>70</td>\n",
       "      <td>80</td>\n",
       "    </tr>\n",
       "  </tbody>\n",
       "</table>\n",
       "</div>"
      ],
      "text/plain": [
       "  class name  영어   수학\n",
       "0    1반  홍길동  50  100\n",
       "1    2반  김영희  60   90\n",
       "2    3반  김철수  70   80"
      ]
     },
     "execution_count": 3,
     "metadata": {},
     "output_type": "execute_result"
    }
   ],
   "source": [
    "df_cl"
   ]
  },
  {
   "cell_type": "markdown",
   "id": "5d073649",
   "metadata": {},
   "source": [
    "## 시리즈에 접근하기"
   ]
  },
  {
   "cell_type": "code",
   "execution_count": 4,
   "id": "4638bd6d",
   "metadata": {},
   "outputs": [],
   "source": [
    "clel=df_cl['영어']"
   ]
  },
  {
   "cell_type": "code",
   "execution_count": 5,
   "id": "b5b69e35",
   "metadata": {},
   "outputs": [
    {
     "data": {
      "text/plain": [
       "0    50\n",
       "1    60\n",
       "2    70\n",
       "Name: 영어, dtype: int64"
      ]
     },
     "execution_count": 5,
     "metadata": {},
     "output_type": "execute_result"
    }
   ],
   "source": [
    "clel"
   ]
  },
  {
   "cell_type": "markdown",
   "id": "2c3c1904",
   "metadata": {},
   "source": [
    "#시리즈의 메서드\n",
    "- append: 2개이상의 시리즈 연결\n",
    "- describe: 요약통계\n",
    "- drop_duplicates: 중복값 없는 시리즈 반환\n",
    "- equlas: 시리즈에 해당 값 가진 요소 확인\n",
    "- get_values: 시리즈 값 구하기(values와 같음)\n",
    "- isin\n",
    "- min\n",
    "- max\n",
    "- mean\n",
    "- std, var\n",
    "- median\n",
    "- replace:특정값 가진 시리즈 값을 교체\n",
    "- sort_values 정렬\n",
    "- to_frame"
   ]
  },
  {
   "cell_type": "code",
   "execution_count": 7,
   "id": "ed6b9e0f",
   "metadata": {},
   "outputs": [],
   "source": [
    "mpg = pd.read_csv('mpg.csv')"
   ]
  },
  {
   "cell_type": "code",
   "execution_count": 8,
   "id": "991bffa6",
   "metadata": {},
   "outputs": [],
   "source": [
    "mpg_cty = mpg['cty']"
   ]
  },
  {
   "cell_type": "code",
   "execution_count": 9,
   "id": "230efcc5",
   "metadata": {},
   "outputs": [],
   "source": [
    "mpg_hwy = mpg['hwy']"
   ]
  },
  {
   "cell_type": "code",
   "execution_count": 11,
   "id": "c5d54be7",
   "metadata": {},
   "outputs": [
    {
     "data": {
      "text/plain": [
       "0      68.0\n",
       "1      81.0\n",
       "2      90.0\n",
       "3       NaN\n",
       "4       NaN\n",
       "       ... \n",
       "229     NaN\n",
       "230     NaN\n",
       "231     NaN\n",
       "232     NaN\n",
       "233     NaN\n",
       "Length: 234, dtype: float64"
      ]
     },
     "execution_count": 11,
     "metadata": {},
     "output_type": "execute_result"
    }
   ],
   "source": [
    "mpg_cty + clel  #두 시리즈 길이가 맞지 않으면 NaN 값이 된다"
   ]
  },
  {
   "cell_type": "code",
   "execution_count": 12,
   "id": "2b899438",
   "metadata": {},
   "outputs": [
    {
     "data": {
      "text/plain": [
       "0      47\n",
       "1      50\n",
       "2      51\n",
       "3      51\n",
       "4      42\n",
       "       ..\n",
       "229    47\n",
       "230    50\n",
       "231    42\n",
       "232    44\n",
       "233    43\n",
       "Length: 234, dtype: int64"
      ]
     },
     "execution_count": 12,
     "metadata": {},
     "output_type": "execute_result"
    }
   ],
   "source": [
    "mpg_cty + mpg_hwy #두 시리즈 길이가 같으면 연산됨"
   ]
  },
  {
   "cell_type": "code",
   "execution_count": 13,
   "id": "1f437966",
   "metadata": {},
   "outputs": [
    {
     "data": {
      "text/plain": [
       "0      29\n",
       "1      29\n",
       "2      31\n",
       "3      30\n",
       "4      26\n",
       "       ..\n",
       "229    28\n",
       "230    29\n",
       "231    26\n",
       "232    26\n",
       "233    26\n",
       "Name: hwy, Length: 234, dtype: int64"
      ]
     },
     "execution_count": 13,
     "metadata": {},
     "output_type": "execute_result"
    }
   ],
   "source": [
    "mpg_hwy"
   ]
  },
  {
   "cell_type": "code",
   "execution_count": 15,
   "id": "898459cd",
   "metadata": {},
   "outputs": [
    {
     "data": {
      "text/plain": [
       "0      58\n",
       "1      58\n",
       "2      62\n",
       "3      60\n",
       "4      52\n",
       "       ..\n",
       "229    56\n",
       "230    58\n",
       "231    52\n",
       "232    52\n",
       "233    52\n",
       "Name: hwy, Length: 234, dtype: int64"
      ]
     },
     "execution_count": 15,
     "metadata": {},
     "output_type": "execute_result"
    }
   ],
   "source": [
    "mpg_hwy *2 #시리즈자체에서 연산 가능"
   ]
  },
  {
   "cell_type": "markdown",
   "id": "cab8356e",
   "metadata": {},
   "source": [
    "## 데이터프레임"
   ]
  },
  {
   "cell_type": "code",
   "execution_count": 16,
   "id": "cf41bac4",
   "metadata": {},
   "outputs": [
    {
     "data": {
      "text/html": [
       "<div>\n",
       "<style scoped>\n",
       "    .dataframe tbody tr th:only-of-type {\n",
       "        vertical-align: middle;\n",
       "    }\n",
       "\n",
       "    .dataframe tbody tr th {\n",
       "        vertical-align: top;\n",
       "    }\n",
       "\n",
       "    .dataframe thead th {\n",
       "        text-align: right;\n",
       "    }\n",
       "</style>\n",
       "<table border=\"1\" class=\"dataframe\">\n",
       "  <thead>\n",
       "    <tr style=\"text-align: right;\">\n",
       "      <th></th>\n",
       "      <th>manufacturer</th>\n",
       "      <th>model</th>\n",
       "      <th>displ</th>\n",
       "      <th>year</th>\n",
       "      <th>cyl</th>\n",
       "      <th>trans</th>\n",
       "      <th>drv</th>\n",
       "      <th>cty</th>\n",
       "      <th>hwy</th>\n",
       "      <th>fl</th>\n",
       "      <th>category</th>\n",
       "    </tr>\n",
       "  </thead>\n",
       "  <tbody>\n",
       "    <tr>\n",
       "      <th>0</th>\n",
       "      <td>audi</td>\n",
       "      <td>a4</td>\n",
       "      <td>1.8</td>\n",
       "      <td>1999</td>\n",
       "      <td>4</td>\n",
       "      <td>auto(l5)</td>\n",
       "      <td>f</td>\n",
       "      <td>18</td>\n",
       "      <td>29</td>\n",
       "      <td>p</td>\n",
       "      <td>compact</td>\n",
       "    </tr>\n",
       "    <tr>\n",
       "      <th>1</th>\n",
       "      <td>audi</td>\n",
       "      <td>a4</td>\n",
       "      <td>1.8</td>\n",
       "      <td>1999</td>\n",
       "      <td>4</td>\n",
       "      <td>manual(m5)</td>\n",
       "      <td>f</td>\n",
       "      <td>21</td>\n",
       "      <td>29</td>\n",
       "      <td>p</td>\n",
       "      <td>compact</td>\n",
       "    </tr>\n",
       "    <tr>\n",
       "      <th>2</th>\n",
       "      <td>audi</td>\n",
       "      <td>a4</td>\n",
       "      <td>2.0</td>\n",
       "      <td>2008</td>\n",
       "      <td>4</td>\n",
       "      <td>manual(m6)</td>\n",
       "      <td>f</td>\n",
       "      <td>20</td>\n",
       "      <td>31</td>\n",
       "      <td>p</td>\n",
       "      <td>compact</td>\n",
       "    </tr>\n",
       "    <tr>\n",
       "      <th>3</th>\n",
       "      <td>audi</td>\n",
       "      <td>a4</td>\n",
       "      <td>2.0</td>\n",
       "      <td>2008</td>\n",
       "      <td>4</td>\n",
       "      <td>auto(av)</td>\n",
       "      <td>f</td>\n",
       "      <td>21</td>\n",
       "      <td>30</td>\n",
       "      <td>p</td>\n",
       "      <td>compact</td>\n",
       "    </tr>\n",
       "    <tr>\n",
       "      <th>5</th>\n",
       "      <td>audi</td>\n",
       "      <td>a4</td>\n",
       "      <td>2.8</td>\n",
       "      <td>1999</td>\n",
       "      <td>6</td>\n",
       "      <td>manual(m5)</td>\n",
       "      <td>f</td>\n",
       "      <td>18</td>\n",
       "      <td>26</td>\n",
       "      <td>p</td>\n",
       "      <td>compact</td>\n",
       "    </tr>\n",
       "    <tr>\n",
       "      <th>...</th>\n",
       "      <td>...</td>\n",
       "      <td>...</td>\n",
       "      <td>...</td>\n",
       "      <td>...</td>\n",
       "      <td>...</td>\n",
       "      <td>...</td>\n",
       "      <td>...</td>\n",
       "      <td>...</td>\n",
       "      <td>...</td>\n",
       "      <td>...</td>\n",
       "      <td>...</td>\n",
       "    </tr>\n",
       "    <tr>\n",
       "      <th>228</th>\n",
       "      <td>volkswagen</td>\n",
       "      <td>passat</td>\n",
       "      <td>1.8</td>\n",
       "      <td>1999</td>\n",
       "      <td>4</td>\n",
       "      <td>auto(l5)</td>\n",
       "      <td>f</td>\n",
       "      <td>18</td>\n",
       "      <td>29</td>\n",
       "      <td>p</td>\n",
       "      <td>midsize</td>\n",
       "    </tr>\n",
       "    <tr>\n",
       "      <th>229</th>\n",
       "      <td>volkswagen</td>\n",
       "      <td>passat</td>\n",
       "      <td>2.0</td>\n",
       "      <td>2008</td>\n",
       "      <td>4</td>\n",
       "      <td>auto(s6)</td>\n",
       "      <td>f</td>\n",
       "      <td>19</td>\n",
       "      <td>28</td>\n",
       "      <td>p</td>\n",
       "      <td>midsize</td>\n",
       "    </tr>\n",
       "    <tr>\n",
       "      <th>230</th>\n",
       "      <td>volkswagen</td>\n",
       "      <td>passat</td>\n",
       "      <td>2.0</td>\n",
       "      <td>2008</td>\n",
       "      <td>4</td>\n",
       "      <td>manual(m6)</td>\n",
       "      <td>f</td>\n",
       "      <td>21</td>\n",
       "      <td>29</td>\n",
       "      <td>p</td>\n",
       "      <td>midsize</td>\n",
       "    </tr>\n",
       "    <tr>\n",
       "      <th>232</th>\n",
       "      <td>volkswagen</td>\n",
       "      <td>passat</td>\n",
       "      <td>2.8</td>\n",
       "      <td>1999</td>\n",
       "      <td>6</td>\n",
       "      <td>manual(m5)</td>\n",
       "      <td>f</td>\n",
       "      <td>18</td>\n",
       "      <td>26</td>\n",
       "      <td>p</td>\n",
       "      <td>midsize</td>\n",
       "    </tr>\n",
       "    <tr>\n",
       "      <th>233</th>\n",
       "      <td>volkswagen</td>\n",
       "      <td>passat</td>\n",
       "      <td>3.6</td>\n",
       "      <td>2008</td>\n",
       "      <td>6</td>\n",
       "      <td>auto(s6)</td>\n",
       "      <td>f</td>\n",
       "      <td>17</td>\n",
       "      <td>26</td>\n",
       "      <td>p</td>\n",
       "      <td>midsize</td>\n",
       "    </tr>\n",
       "  </tbody>\n",
       "</table>\n",
       "<p>118 rows × 11 columns</p>\n",
       "</div>"
      ],
      "text/plain": [
       "    manufacturer   model  displ  year  cyl       trans drv  cty  hwy fl  \\\n",
       "0           audi      a4    1.8  1999    4    auto(l5)   f   18   29  p   \n",
       "1           audi      a4    1.8  1999    4  manual(m5)   f   21   29  p   \n",
       "2           audi      a4    2.0  2008    4  manual(m6)   f   20   31  p   \n",
       "3           audi      a4    2.0  2008    4    auto(av)   f   21   30  p   \n",
       "5           audi      a4    2.8  1999    6  manual(m5)   f   18   26  p   \n",
       "..           ...     ...    ...   ...  ...         ...  ..  ...  ... ..   \n",
       "228   volkswagen  passat    1.8  1999    4    auto(l5)   f   18   29  p   \n",
       "229   volkswagen  passat    2.0  2008    4    auto(s6)   f   19   28  p   \n",
       "230   volkswagen  passat    2.0  2008    4  manual(m6)   f   21   29  p   \n",
       "232   volkswagen  passat    2.8  1999    6  manual(m5)   f   18   26  p   \n",
       "233   volkswagen  passat    3.6  2008    6    auto(s6)   f   17   26  p   \n",
       "\n",
       "    category  \n",
       "0    compact  \n",
       "1    compact  \n",
       "2    compact  \n",
       "3    compact  \n",
       "5    compact  \n",
       "..       ...  \n",
       "228  midsize  \n",
       "229  midsize  \n",
       "230  midsize  \n",
       "232  midsize  \n",
       "233  midsize  \n",
       "\n",
       "[118 rows x 11 columns]"
      ]
     },
     "execution_count": 16,
     "metadata": {},
     "output_type": "execute_result"
    }
   ],
   "source": [
    "mpg[mpg['cty']>mpg['cty'].mean()]"
   ]
  },
  {
   "cell_type": "markdown",
   "id": "f1f6415b",
   "metadata": {},
   "source": [
    "# 데이터 시각화"
   ]
  },
  {
   "cell_type": "markdown",
   "id": "fc7cc518",
   "metadata": {},
   "source": [
    "- matplot,seaborn 2개 정도로 대부분 사용\n",
    "- 시각화는 목적이 있어야지만 의미가 있다.\n",
    "- 시각화는 나의 가설, 내가 설득하고 싶을때 사용하는 것\n",
    "- 시각화는 나의 가설, 나의 주장, 나의 설득과 잘 연결되고 그것을 잘 표현해야 한다."
   ]
  },
  {
   "cell_type": "code",
   "execution_count": 18,
   "id": "543ca810",
   "metadata": {},
   "outputs": [],
   "source": [
    "# 그래프 그리는 기초 \n",
    "from matplotlib import pyplot as plt"
   ]
  },
  {
   "cell_type": "code",
   "execution_count": 19,
   "id": "d1b7304c",
   "metadata": {},
   "outputs": [
    {
     "data": {
      "image/png": "[encoded data removed]",
      "text/plain": [
       "<Figure size 432x288 with 1 Axes>"
      ]
     },
     "metadata": {
      "needs_background": "light"
     },
     "output_type": "display_data"
    }
   ],
   "source": [
    "#산점도를 그려보자!(분류 1개)\n",
    "plt.scatter([1,2,3],[4,5,6])\n",
    "plt.show()"
   ]
  },
  {
   "cell_type": "code",
   "execution_count": 20,
   "id": "5f4f10e2",
   "metadata": {},
   "outputs": [
    {
     "data": {
      "image/png": "[encoded data removed]",
      "text/plain": [
       "<Figure size 432x288 with 1 Axes>"
      ]
     },
     "metadata": {
      "needs_background": "light"
     },
     "output_type": "display_data"
    }
   ],
   "source": [
    "#산점도를 그려보자!(여러 분류)\n",
    "plt.scatter([1,2,3],[4,5,6])\n",
    "plt.scatter([1.5,7],[8,9])\n",
    "plt.show()"
   ]
  },
  {
   "cell_type": "code",
   "execution_count": 21,
   "id": "37d033d7",
   "metadata": {},
   "outputs": [
    {
     "name": "stderr",
     "output_type": "stream",
     "text": [
      "UsageError: unrecognized arguments: #매직커맨드\n"
     ]
    }
   ],
   "source": [
    "%matplotlib inline #매직커맨드\n",
    "#show함수 사용하지 않아도 그래프 출력"
   ]
  },
  {
   "cell_type": "code",
   "execution_count": 22,
   "id": "5ba34952",
   "metadata": {},
   "outputs": [
    {
     "data": {
      "text/plain": [
       "<matplotlib.collections.PathCollection at 0x14d190da6d0>"
      ]
     },
     "execution_count": 22,
     "metadata": {},
     "output_type": "execute_result"
    },
    {
     "data": {
      "image/png": "[encoded data removed]",
      "text/plain": [
       "<Figure size 432x288 with 1 Axes>"
      ]
     },
     "metadata": {
      "needs_background": "light"
     },
     "output_type": "display_data"
    }
   ],
   "source": [
    "plt.scatter([1,2,3],[4,5,6])"
   ]
  },
  {
   "cell_type": "markdown",
   "id": "0bb13811",
   "metadata": {},
   "source": [
    "## 그래프 제목 및 축 이름 설정"
   ]
  },
  {
   "cell_type": "code",
   "execution_count": 23,
   "id": "6a1095de",
   "metadata": {},
   "outputs": [
    {
     "data": {
      "text/plain": [
       "Text(0, 0.5, 'y axis')"
      ]
     },
     "execution_count": 23,
     "metadata": {},
     "output_type": "execute_result"
    },
    {
     "data": {
      "image/png": "[encoded data removed]",
      "text/plain": [
       "<Figure size 432x288 with 1 Axes>"
      ]
     },
     "metadata": {
      "needs_background": "light"
     },
     "output_type": "display_data"
    }
   ],
   "source": [
    "plt.scatter([1,2,3],[4,5,6])\n",
    "plt.title('Hi') # 제목\n",
    "plt.xlabel('x axis') #축이름\n",
    "plt.ylabel('y axis')#축이름"
   ]
  },
  {
   "cell_type": "code",
   "execution_count": 24,
   "id": "8ddf7b39",
   "metadata": {},
   "outputs": [
    {
     "data": {
      "text/plain": [
       "Text(0, 0.5, 'y axis')"
      ]
     },
     "execution_count": 24,
     "metadata": {},
     "output_type": "execute_result"
    },
    {
     "name": "stderr",
     "output_type": "stream",
     "text": [
      "C:\\Users\\user\\anaconda3\\lib\\site-packages\\IPython\\core\\pylabtools.py:151: UserWarning: Glyph 50696 (\\N{HANGUL SYLLABLE YE}) missing from current font.\n",
      "  fig.canvas.print_figure(bytes_io, **kw)\n",
      "C:\\Users\\user\\anaconda3\\lib\\site-packages\\IPython\\core\\pylabtools.py:151: UserWarning: Glyph 51228 (\\N{HANGUL SYLLABLE JE}) missing from current font.\n",
      "  fig.canvas.print_figure(bytes_io, **kw)\n"
     ]
    },
    {
     "data": {
      "image/png": "[encoded data removed]",
      "text/plain": [
       "<Figure size 432x288 with 1 Axes>"
      ]
     },
     "metadata": {
      "needs_background": "light"
     },
     "output_type": "display_data"
    }
   ],
   "source": [
    "plt.scatter([1,2,3],[4,5,6])\n",
    "plt.title('예제') # 제목\n",
    "plt.xlabel('x axis')#축이름\n",
    "plt.ylabel('y axis')#축이름"
   ]
  },
  {
   "cell_type": "markdown",
   "id": "6ee530cc",
   "metadata": {},
   "source": [
    "## 축 범위 설정"
   ]
  },
  {
   "cell_type": "markdown",
   "id": "7eacc12c",
   "metadata": {},
   "source": [
    "- xlim\n",
    "- ylim"
   ]
  },
  {
   "cell_type": "code",
   "execution_count": 26,
   "id": "c5e248ff",
   "metadata": {},
   "outputs": [
    {
     "data": {
      "text/plain": [
       "(4.0, 5.0)"
      ]
     },
     "execution_count": 26,
     "metadata": {},
     "output_type": "execute_result"
    },
    {
     "data": {
      "image/png": "[encoded data removed]",
      "text/plain": [
       "<Figure size 432x288 with 1 Axes>"
      ]
     },
     "metadata": {
      "needs_background": "light"
     },
     "output_type": "display_data"
    }
   ],
   "source": [
    "plt.scatter([1,2,3],[4,5,6])\n",
    "plt.title('Title') # 제목\n",
    "plt.xlabel('x axis') #축 이름\n",
    "plt.ylabel('y axis') #축 이름\n",
    "plt.xlim(0,2)#축 범위\n",
    "plt.ylim(4,5)#축 범위"
   ]
  },
  {
   "cell_type": "code",
   "execution_count": 27,
   "id": "85cf5f47",
   "metadata": {},
   "outputs": [
    {
     "data": {
      "text/plain": [
       "(3.9, 5.0)"
      ]
     },
     "execution_count": 27,
     "metadata": {},
     "output_type": "execute_result"
    },
    {
     "data": {
      "image/png": "[encoded data removed]",
      "text/plain": [
       "<Figure size 432x288 with 1 Axes>"
      ]
     },
     "metadata": {
      "needs_background": "light"
     },
     "output_type": "display_data"
    }
   ],
   "source": [
    "plt.scatter([1,2,3],[4,5,6])\n",
    "plt.title('Title') # 제목\n",
    "plt.xlabel('x axis')\n",
    "plt.ylabel('y axis')\n",
    "plt.xlim(left = 0.25) #왼쪽 기준으로 보여주기!\n",
    "plt.ylim(top=5)# 가장 최상이 5가 되게 하기"
   ]
  },
  {
   "cell_type": "markdown",
   "id": "8245f59b",
   "metadata": {},
   "source": [
    "## 눈금값 설정, 범례 설정"
   ]
  },
  {
   "cell_type": "markdown",
   "id": "212c2efa",
   "metadata": {},
   "source": [
    "xticks yticks\n",
    "\n",
    "범례\n",
    "legend"
   ]
  },
  {
   "cell_type": "code",
   "execution_count": 31,
   "id": "7db1dd2d",
   "metadata": {},
   "outputs": [
    {
     "data": {
      "text/plain": [
       "([<matplotlib.axis.XTick at 0x14d193b1160>,\n",
       "  <matplotlib.axis.XTick at 0x14d193b1130>,\n",
       "  <matplotlib.axis.XTick at 0x14d193ab820>],\n",
       " [Text(1, 0, 'coupang'), Text(2, 0, 'b'), Text(3, 0, 'c')])"
      ]
     },
     "execution_count": 31,
     "metadata": {},
     "output_type": "execute_result"
    },
    {
     "data": {
      "image/png": "[encoded data removed]",
      "text/plain": [
       "<Figure size 432x288 with 1 Axes>"
      ]
     },
     "metadata": {
      "needs_background": "light"
     },
     "output_type": "display_data"
    }
   ],
   "source": [
    "plt.scatter([1,2,3],[4,5,6])\n",
    "plt.xticks([1,2,3],['coupang','b','c']) #xticks 설정"
   ]
  },
  {
   "cell_type": "code",
   "execution_count": 32,
   "id": "1fcd43fc",
   "metadata": {},
   "outputs": [
    {
     "data": {
      "text/plain": [
       "<matplotlib.legend.Legend at 0x14d19440340>"
      ]
     },
     "execution_count": 32,
     "metadata": {},
     "output_type": "execute_result"
    },
    {
     "data": {
      "image/png": "[encoded data removed]",
      "text/plain": [
       "<Figure size 432x288 with 1 Axes>"
      ]
     },
     "metadata": {
      "needs_background": "light"
     },
     "output_type": "display_data"
    }
   ],
   "source": [
    "plt.scatter([1,2,3],[4,5,6], label= 'x=1') #라벨 설정\n",
    "plt.scatter([-1,-1,-1],[4,5,6], label= 'x=-1') #라벨 설정\n",
    "plt.legend() #라벨 출력"
   ]
  },
  {
   "cell_type": "markdown",
   "id": "599a9bc1",
   "metadata": {},
   "source": [
    "- 범례 위치 중요함!\n",
    "\n",
    "- left \n",
    "- center\n",
    "- right\n",
    "- upper left\n",
    "- upper center\n",
    "- upper right\n",
    "- lower left\n",
    "- lower center\n",
    "- lower right"
   ]
  },
  {
   "cell_type": "code",
   "execution_count": 33,
   "id": "d09c1ac4",
   "metadata": {},
   "outputs": [
    {
     "data": {
      "text/plain": [
       "<matplotlib.legend.Legend at 0x14d194c0910>"
      ]
     },
     "execution_count": 33,
     "metadata": {},
     "output_type": "execute_result"
    },
    {
     "data": {
      "image/png": "[encoded data removed]",
      "text/plain": [
       "<Figure size 432x288 with 1 Axes>"
      ]
     },
     "metadata": {
      "needs_background": "light"
     },
     "output_type": "display_data"
    }
   ],
   "source": [
    "plt.scatter([1,2,3],[4,5,6], label= 'x=1') #라벨 설정\n",
    "plt.scatter([-1,-1,-1],[4,5,6], label= 'x=-1') #라벨 설정\n",
    "plt.legend(loc = 'upper center')#라벨위치 설정 후 출력"
   ]
  },
  {
   "cell_type": "markdown",
   "id": "d1300766",
   "metadata": {},
   "source": [
    "## 그래프 크기 및 스타일 지정"
   ]
  },
  {
   "cell_type": "markdown",
   "id": "e7f9ad85",
   "metadata": {},
   "source": [
    "- 그래프 크기는 figure 함수의 figsize 설정\n",
    "- 가로 세로 설정!"
   ]
  },
  {
   "cell_type": "code",
   "execution_count": 34,
   "id": "284b9994",
   "metadata": {},
   "outputs": [
    {
     "data": {
      "text/plain": [
       "<matplotlib.collections.PathCollection at 0x14d1953d040>"
      ]
     },
     "execution_count": 34,
     "metadata": {},
     "output_type": "execute_result"
    },
    {
     "data": {
      "image/png": "[encoded data removed]",
      "text/plain": [
       "<Figure size 720x360 with 1 Axes>"
      ]
     },
     "metadata": {
      "needs_background": "light"
     },
     "output_type": "display_data"
    }
   ],
   "source": [
    "plt.figure(figsize=(10,5))\n",
    "plt.scatter([1,2,3],[4,5,6])"
   ]
  },
  {
   "cell_type": "code",
   "execution_count": 35,
   "id": "ca466727",
   "metadata": {},
   "outputs": [
    {
     "data": {
      "text/plain": [
       "<matplotlib.collections.PathCollection at 0x14d1b38fd90>"
      ]
     },
     "execution_count": 35,
     "metadata": {},
     "output_type": "execute_result"
    },
    {
     "data": {
      "image/png": "[encoded data removed]",
      "text/plain": [
       "<Figure size 432x288 with 1 Axes>"
      ]
     },
     "metadata": {},
     "output_type": "display_data"
    }
   ],
   "source": [
    "##스타일 바꾸기\n",
    "import seaborn as sns \n",
    "sns.set()#기본값은 (style='darkgrid')\n",
    "plt.scatter([1,2,3],[4,5,6])"
   ]
  },
  {
   "cell_type": "code",
   "execution_count": 36,
   "id": "7b11a13b",
   "metadata": {},
   "outputs": [
    {
     "data": {
      "text/plain": [
       "<matplotlib.collections.PathCollection at 0x14d1b404ee0>"
      ]
     },
     "execution_count": 36,
     "metadata": {},
     "output_type": "execute_result"
    },
    {
     "data": {
      "image/png": "[encoded data removed]",
      "text/plain": [
       "<Figure size 432x288 with 1 Axes>"
      ]
     },
     "metadata": {},
     "output_type": "display_data"
    }
   ],
   "source": [
    "sns.set(style ='whitegrid')#기본값은 (style='darkgrid')\n",
    "plt.scatter([1,2,3],[4,5,6])"
   ]
  },
  {
   "cell_type": "markdown",
   "id": "87c558a4",
   "metadata": {},
   "source": [
    "## 다양한 그래프 그려보기"
   ]
  },
  {
   "cell_type": "code",
   "execution_count": 37,
   "id": "51e9a023",
   "metadata": {},
   "outputs": [
    {
     "data": {
      "text/plain": [
       "<matplotlib.legend.Legend at 0x14d1b481070>"
      ]
     },
     "execution_count": 37,
     "metadata": {},
     "output_type": "execute_result"
    },
    {
     "data": {
      "image/png": "[encoded data removed]",
      "text/plain": [
       "<Figure size 432x288 with 1 Axes>"
      ]
     },
     "metadata": {},
     "output_type": "display_data"
    }
   ],
   "source": [
    "plt.plot([1,2,3],[4,5,6], label= 'line1')\n",
    "plt.plot([1,2,3],[7,8,9], label= 'line2')\n",
    "plt.legend()"
   ]
  },
  {
   "cell_type": "code",
   "execution_count": 38,
   "id": "c8c70aba",
   "metadata": {},
   "outputs": [
    {
     "data": {
      "text/plain": [
       "<matplotlib.legend.Legend at 0x14d1b4e9640>"
      ]
     },
     "execution_count": 38,
     "metadata": {},
     "output_type": "execute_result"
    },
    {
     "data": {
      "image/png": "[encoded data removed]",
      "text/plain": [
       "<Figure size 432x288 with 1 Axes>"
      ]
     },
     "metadata": {},
     "output_type": "display_data"
    }
   ],
   "source": [
    "## 색상설정 \n",
    "plt.plot([1,2,3],[4,5,6], color = 'blue', label= 'line1')\n",
    "plt.plot([1,2,3],[7,8,9], color = 'brown', label= 'line2')\n",
    "plt.legend()"
   ]
  },
  {
   "cell_type": "code",
   "execution_count": 39,
   "id": "36c11de9",
   "metadata": {},
   "outputs": [
    {
     "data": {
      "text/plain": [
       "[<matplotlib.lines.Line2D at 0x14d1b566d90>]"
      ]
     },
     "execution_count": 39,
     "metadata": {},
     "output_type": "execute_result"
    },
    {
     "data": {
      "image/png": "[encoded data removed]",
      "text/plain": [
       "<Figure size 432x288 with 1 Axes>"
      ]
     },
     "metadata": {},
     "output_type": "display_data"
    }
   ],
   "source": [
    "## 선스타일 두께 등 설정\n",
    "plt.plot([1,2,3],[4,5,6],linestyle= 'dashed', linewidth = 5,color = 'blue', label= 'line1')\n",
    "plt.plot([1,2,3],[7,8,9],linestyle= 'dotted',linewidth = 3,color = 'brown', label= 'line2')"
   ]
  },
  {
   "cell_type": "code",
   "execution_count": 40,
   "id": "9142fb21",
   "metadata": {},
   "outputs": [
    {
     "data": {
      "text/plain": [
       "[<matplotlib.lines.Line2D at 0x14d1b5d1ca0>]"
      ]
     },
     "execution_count": 40,
     "metadata": {},
     "output_type": "execute_result"
    },
    {
     "data": {
      "image/png": "[encoded data removed]",
      "text/plain": [
       "<Figure size 432x288 with 1 Axes>"
      ]
     },
     "metadata": {},
     "output_type": "display_data"
    }
   ],
   "source": [
    "## 마커설정 점, 원, 다이아몬드, 사각형, 별  \n",
    "## . 점 , o 원, s 사각형, * 별 D 다이아몬드, d 슬림한 다이아몬드\n",
    "plt.plot([1,2,3],[4,5,6], marker='s', markersize=10)\n",
    "plt.plot([1,2,3],[7,8,9], marker='d', markersize=10)"
   ]
  },
  {
   "cell_type": "markdown",
   "id": "5f7a4049",
   "metadata": {},
   "source": [
    "## 산점도"
   ]
  },
  {
   "cell_type": "code",
   "execution_count": 41,
   "id": "e20c7110",
   "metadata": {},
   "outputs": [
    {
     "data": {
      "text/plain": [
       "<matplotlib.collections.PathCollection at 0x14d1b64b1f0>"
      ]
     },
     "execution_count": 41,
     "metadata": {},
     "output_type": "execute_result"
    },
    {
     "data": {
      "image/png": "[encoded data removed]",
      "text/plain": [
       "<Figure size 432x288 with 1 Axes>"
      ]
     },
     "metadata": {},
     "output_type": "display_data"
    }
   ],
   "source": [
    "#그래프마다 디자인하는 요소가 다르기 때문에 꼭 체크하기! \n",
    "plt.scatter([1,2,3],[4,5,6], marker='s', s=100, color='red')\n",
    "plt.scatter([1,2,3],[7,8,9], marker='d', s=50, color= 'blue')"
   ]
  },
  {
   "cell_type": "code",
   "execution_count": 42,
   "id": "dd2d86ab",
   "metadata": {},
   "outputs": [],
   "source": [
    "### 투명도\n",
    "import numpy as np"
   ]
  },
  {
   "cell_type": "code",
   "execution_count": 43,
   "id": "aae1d427",
   "metadata": {},
   "outputs": [],
   "source": [
    "x = np.random.normal(0,1,10000)\n",
    "y = np.random.normal(0,1,10000)"
   ]
  },
  {
   "cell_type": "code",
   "execution_count": 44,
   "id": "28f25e2e",
   "metadata": {},
   "outputs": [
    {
     "data": {
      "text/plain": [
       "array([ 0.93976184, -0.37652346, -0.53955278, ...,  1.08401825,\n",
       "        1.18220265, -0.28124835])"
      ]
     },
     "execution_count": 44,
     "metadata": {},
     "output_type": "execute_result"
    }
   ],
   "source": [
    "x"
   ]
  },
  {
   "cell_type": "code",
   "execution_count": 45,
   "id": "0a134318",
   "metadata": {},
   "outputs": [
    {
     "data": {
      "text/plain": [
       "array([-0.3347264 , -0.87371092, -0.18133156, ..., -0.79152897,\n",
       "        0.08930454,  0.08981958])"
      ]
     },
     "execution_count": 45,
     "metadata": {},
     "output_type": "execute_result"
    }
   ],
   "source": [
    "y"
   ]
  },
  {
   "cell_type": "code",
   "execution_count": 46,
   "id": "776d2143",
   "metadata": {},
   "outputs": [
    {
     "data": {
      "text/plain": [
       "<matplotlib.collections.PathCollection at 0x14d1b69ca00>"
      ]
     },
     "execution_count": 46,
     "metadata": {},
     "output_type": "execute_result"
    },
    {
     "data": {
      "image/png": "[encoded data removed]",
      "text/plain": [
       "<Figure size 432x288 with 1 Axes>"
      ]
     },
     "metadata": {},
     "output_type": "display_data"
    }
   ],
   "source": [
    "plt.scatter(x,y, alpha=0.03) # 투명도는 alpha를 이용해서 조정"
   ]
  },
  {
   "cell_type": "markdown",
   "id": "6e229d16",
   "metadata": {},
   "source": [
    "## 막대그래프"
   ]
  },
  {
   "cell_type": "code",
   "execution_count": 47,
   "id": "e8dcd728",
   "metadata": {},
   "outputs": [
    {
     "data": {
      "text/plain": [
       "<BarContainer object of 3 artists>"
      ]
     },
     "execution_count": 47,
     "metadata": {},
     "output_type": "execute_result"
    },
    {
     "data": {
      "image/png": "[encoded data removed]",
      "text/plain": [
       "<Figure size 432x288 with 1 Axes>"
      ]
     },
     "metadata": {},
     "output_type": "display_data"
    }
   ],
   "source": [
    "plt.bar(range(3), [20,30,40])"
   ]
  },
  {
   "cell_type": "code",
   "execution_count": 48,
   "id": "11867116",
   "metadata": {},
   "outputs": [
    {
     "data": {
      "text/plain": [
       "([<matplotlib.axis.XTick at 0x14d1b76a0a0>,\n",
       "  <matplotlib.axis.XTick at 0x14d1b76a070>,\n",
       "  <matplotlib.axis.XTick at 0x14d1b75c760>],\n",
       " [Text(0, 0, 'english'), Text(1, 0, 'math'), Text(2, 0, 'science')])"
      ]
     },
     "execution_count": 48,
     "metadata": {},
     "output_type": "execute_result"
    },
    {
     "data": {
      "image/png": "[encoded data removed]",
      "text/plain": [
       "<Figure size 432x288 with 1 Axes>"
      ]
     },
     "metadata": {},
     "output_type": "display_data"
    }
   ],
   "source": [
    "##눈금값 설정\n",
    "plt.bar(range(3), [20,30,40])\n",
    "plt.xticks(range(3), ['english','math','science'])"
   ]
  },
  {
   "cell_type": "code",
   "execution_count": 49,
   "id": "5232afd4",
   "metadata": {},
   "outputs": [
    {
     "data": {
      "text/plain": [
       "<BarContainer object of 3 artists>"
      ]
     },
     "execution_count": 49,
     "metadata": {},
     "output_type": "execute_result"
    },
    {
     "data": {
      "image/png": "[encoded data removed]",
      "text/plain": [
       "<Figure size 432x288 with 1 Axes>"
      ]
     },
     "metadata": {},
     "output_type": "display_data"
    }
   ],
   "source": [
    "##스타일 설정 \n",
    "plt.bar(range(3), [20,30,40], width= 0.5, color='orange',linewidth = 4.5)"
   ]
  },
  {
   "cell_type": "code",
   "execution_count": 50,
   "id": "5ce23e83",
   "metadata": {},
   "outputs": [
    {
     "data": {
      "text/plain": [
       "<BarContainer object of 3 artists>"
      ]
     },
     "execution_count": 50,
     "metadata": {},
     "output_type": "execute_result"
    },
    {
     "data": {
      "image/png": "[encoded data removed]",
      "text/plain": [
       "<Figure size 432x288 with 1 Axes>"
      ]
     },
     "metadata": {},
     "output_type": "display_data"
    }
   ],
   "source": [
    "##스타일 설정 \n",
    "plt.bar(range(3), [20,30,40], width= 0.5, color=['orange','blue','black'],linewidth = 4.5)"
   ]
  },
  {
   "cell_type": "markdown",
   "id": "8e5d6f2f",
   "metadata": {},
   "source": [
    "## 박스플롯"
   ]
  },
  {
   "cell_type": "code",
   "execution_count": 51,
   "id": "8532ccc7",
   "metadata": {},
   "outputs": [],
   "source": [
    "x = np.random.normal(10,2,100)"
   ]
  },
  {
   "cell_type": "code",
   "execution_count": 52,
   "id": "afcbb8a3",
   "metadata": {},
   "outputs": [
    {
     "data": {
      "text/plain": [
       "{'whiskers': [<matplotlib.lines.Line2D at 0x14d1b8a7550>,\n",
       "  <matplotlib.lines.Line2D at 0x14d1b8a7820>],\n",
       " 'caps': [<matplotlib.lines.Line2D at 0x14d1b8a7bb0>,\n",
       "  <matplotlib.lines.Line2D at 0x14d1b8a7dc0>],\n",
       " 'boxes': [<matplotlib.lines.Line2D at 0x14d1b8a7280>],\n",
       " 'medians': [<matplotlib.lines.Line2D at 0x14d1b8b30d0>],\n",
       " 'fliers': [<matplotlib.lines.Line2D at 0x14d1b8b33a0>],\n",
       " 'means': []}"
      ]
     },
     "execution_count": 52,
     "metadata": {},
     "output_type": "execute_result"
    },
    {
     "data": {
      "image/png": "[encoded data removed]",
      "text/plain": [
       "<Figure size 432x288 with 1 Axes>"
      ]
     },
     "metadata": {},
     "output_type": "display_data"
    }
   ],
   "source": [
    "plt.boxplot(x)"
   ]
  },
  {
   "cell_type": "code",
   "execution_count": 53,
   "id": "363b50b9",
   "metadata": {},
   "outputs": [],
   "source": [
    "x = np.random.normal(10,2,100)\n",
    "y = np.random.normal(10,2,100)"
   ]
  },
  {
   "cell_type": "code",
   "execution_count": 54,
   "id": "44dbb78b",
   "metadata": {},
   "outputs": [
    {
     "data": {
      "text/plain": [
       "{'whiskers': [<matplotlib.lines.Line2D at 0x14d1b8f1d90>,\n",
       "  <matplotlib.lines.Line2D at 0x14d1b8fe0a0>,\n",
       "  <matplotlib.lines.Line2D at 0x14d1b90a1c0>,\n",
       "  <matplotlib.lines.Line2D at 0x14d1b90a490>],\n",
       " 'caps': [<matplotlib.lines.Line2D at 0x14d1b8fe370>,\n",
       "  <matplotlib.lines.Line2D at 0x14d1b8fe640>,\n",
       "  <matplotlib.lines.Line2D at 0x14d1b90a760>,\n",
       "  <matplotlib.lines.Line2D at 0x14d1b90aa30>],\n",
       " 'boxes': [<matplotlib.lines.Line2D at 0x14d1b8f1ac0>,\n",
       "  <matplotlib.lines.Line2D at 0x14d1b8feeb0>],\n",
       " 'medians': [<matplotlib.lines.Line2D at 0x14d1b8fe910>,\n",
       "  <matplotlib.lines.Line2D at 0x14d1b90ad00>],\n",
       " 'fliers': [<matplotlib.lines.Line2D at 0x14d1b8febe0>,\n",
       "  <matplotlib.lines.Line2D at 0x14d1b90afd0>],\n",
       " 'means': []}"
      ]
     },
     "execution_count": 54,
     "metadata": {},
     "output_type": "execute_result"
    },
    {
     "data": {
      "image/png": "[encoded data removed]",
      "text/plain": [
       "<Figure size 432x288 with 1 Axes>"
      ]
     },
     "metadata": {},
     "output_type": "display_data"
    }
   ],
   "source": [
    "plt.boxplot([x,y])"
   ]
  },
  {
   "cell_type": "code",
   "execution_count": 55,
   "id": "b0d9c425",
   "metadata": {},
   "outputs": [
    {
     "data": {
      "text/plain": [
       "([<matplotlib.axis.XTick at 0x14d1b938eb0>,\n",
       "  <matplotlib.axis.XTick at 0x14d1b938e80>],\n",
       " [Text(1, 0, 'mpg'), Text(2, 0, 'csv')])"
      ]
     },
     "execution_count": 55,
     "metadata": {},
     "output_type": "execute_result"
    },
    {
     "data": {
      "image/png": "[encoded data removed]",
      "text/plain": [
       "<Figure size 432x288 with 1 Axes>"
      ]
     },
     "metadata": {},
     "output_type": "display_data"
    }
   ],
   "source": [
    "#스타일설정\n",
    "plt.boxplot([x,y])\n",
    "plt.xticks([1,2], ['mpg','csv'])"
   ]
  },
  {
   "cell_type": "markdown",
   "id": "863c01c9",
   "metadata": {},
   "source": [
    "## 히스토그램"
   ]
  },
  {
   "cell_type": "code",
   "execution_count": 56,
   "id": "9a9e1073",
   "metadata": {},
   "outputs": [
    {
     "data": {
      "text/plain": [
       "array([11.12831455, 10.51516142,  5.91211305, 10.21388172,  5.8854971 ,\n",
       "       10.83091466, 10.10176975, 11.12076439,  8.9675534 ,  5.44109434,\n",
       "       13.6112453 ,  8.50002179, 13.05195917, 12.36717803, 11.43563566,\n",
       "       14.95973077,  8.97666579, 10.14850382, 11.08078125,  7.21919132,\n",
       "        8.18533677, 10.31437481,  9.94311032, 11.19583478, 10.36103128,\n",
       "        6.76011022,  7.60075806, 10.61650789, 11.8663706 ,  6.60667114,\n",
       "       11.98491592, 12.35733844, 11.90916917, 10.08894504,  9.21496065,\n",
       "       12.35040024,  6.77250041, 10.21459972, 13.28769096, 11.74133697,\n",
       "       10.00653425,  8.10882129,  9.16896419,  9.97963625,  9.49980759,\n",
       "       11.23885361,  7.76087268,  9.05739347, 12.97901096, 10.27245183,\n",
       "        8.80054692, 12.6089248 , 10.27745541, 12.88391983,  9.03679996,\n",
       "        8.76026784, 11.72293032,  8.64761013,  9.33644553, 11.91903934,\n",
       "        9.43913054, 11.36007286,  7.15398126,  8.87917903, 11.02304847,\n",
       "       11.98567947,  5.57963844, 11.4872718 , 10.28445241, 14.00746197,\n",
       "       14.52189775, 11.36493988, 10.86632282, 10.66694721,  9.86187048,\n",
       "       11.57009736,  7.32227926, 10.85095909,  9.42465225,  9.00704745,\n",
       "        6.57043131, 13.24799552,  9.39437457, 12.99460488, 11.29047573,\n",
       "        8.0887866 , 10.08709147,  9.31554317, 10.23688913, 11.73217739,\n",
       "        8.33199458, 12.41043859, 12.54999278, 10.5795465 ,  8.75208103,\n",
       "       12.67965612,  9.12608167, 11.64100937, 11.99343819,  9.98081518])"
      ]
     },
     "execution_count": 56,
     "metadata": {},
     "output_type": "execute_result"
    }
   ],
   "source": [
    "x"
   ]
  },
  {
   "cell_type": "code",
   "execution_count": 57,
   "id": "9e439c07",
   "metadata": {},
   "outputs": [
    {
     "data": {
      "text/plain": [
       "(array([ 4.,  7.,  5., 15., 15., 19., 18., 11.,  4.,  2.]),\n",
       " array([ 5.44109434,  6.39295798,  7.34482163,  8.29668527,  9.24854891,\n",
       "        10.20041256, 11.1522762 , 12.10413984, 13.05600349, 14.00786713,\n",
       "        14.95973077]),\n",
       " <BarContainer object of 10 artists>)"
      ]
     },
     "execution_count": 57,
     "metadata": {},
     "output_type": "execute_result"
    },
    {
     "data": {
      "image/png": "[encoded data removed]",
      "text/plain": [
       "<Figure size 432x288 with 1 Axes>"
      ]
     },
     "metadata": {},
     "output_type": "display_data"
    }
   ],
   "source": [
    "plt.hist(x)"
   ]
  },
  {
   "cell_type": "code",
   "execution_count": 58,
   "id": "6890683a",
   "metadata": {},
   "outputs": [
    {
     "data": {
      "text/plain": [
       "(array([2., 2., 0., 2., 2., 3., 1., 1., 3., 2., 5., 8., 6., 1., 8., 9., 4.,\n",
       "        6., 6., 6., 6., 4., 3., 4., 2., 1., 1., 0., 1., 1.]),\n",
       " array([ 5.44109434,  5.75838222,  6.0756701 ,  6.39295798,  6.71024586,\n",
       "         7.02753374,  7.34482163,  7.66210951,  7.97939739,  8.29668527,\n",
       "         8.61397315,  8.93126103,  9.24854891,  9.56583679,  9.88312468,\n",
       "        10.20041256, 10.51770044, 10.83498832, 11.1522762 , 11.46956408,\n",
       "        11.78685196, 12.10413984, 12.42142772, 12.73871561, 13.05600349,\n",
       "        13.37329137, 13.69057925, 14.00786713, 14.32515501, 14.64244289,\n",
       "        14.95973077]),\n",
       " <BarContainer object of 30 artists>)"
      ]
     },
     "execution_count": 58,
     "metadata": {},
     "output_type": "execute_result"
    },
    {
     "data": {
      "image/png": "[encoded data removed]",
      "text/plain": [
       "<Figure size 432x288 with 1 Axes>"
      ]
     },
     "metadata": {},
     "output_type": "display_data"
    }
   ],
   "source": [
    "##구간 개수 설정 bins =  \n",
    "plt.hist(x, bins = 30 )"
   ]
  },
  {
   "cell_type": "code",
   "execution_count": 59,
   "id": "22be7c88",
   "metadata": {},
   "outputs": [
    {
     "data": {
      "text/plain": [
       "(array([ 4.,  0.,  4.,  3.,  2.,  3.,  5., 10.,  6.,  9., 12.,  7.,  8.,\n",
       "        10.,  5.,  6.,  2.,  2.,  0.,  2.]),\n",
       " array([ 5.44109434,  5.91702616,  6.39295798,  6.8688898 ,  7.34482163,\n",
       "         7.82075345,  8.29668527,  8.77261709,  9.24854891,  9.72448073,\n",
       "        10.20041256, 10.67634438, 11.1522762 , 11.62820802, 12.10413984,\n",
       "        12.58007166, 13.05600349, 13.53193531, 14.00786713, 14.48379895,\n",
       "        14.95973077]),\n",
       " <BarContainer object of 20 artists>)"
      ]
     },
     "execution_count": 59,
     "metadata": {},
     "output_type": "execute_result"
    },
    {
     "data": {
      "image/png": "[encoded data removed]",
      "text/plain": [
       "<Figure size 432x288 with 1 Axes>"
      ]
     },
     "metadata": {},
     "output_type": "display_data"
    }
   ],
   "source": [
    "plt.hist(x, bins = 20 )"
   ]
  },
  {
   "cell_type": "markdown",
   "id": "0d8e9563",
   "metadata": {},
   "source": [
    "## 히트맵"
   ]
  },
  {
   "cell_type": "code",
   "execution_count": 60,
   "id": "87da53fd",
   "metadata": {},
   "outputs": [],
   "source": [
    "df = pd.DataFrame({'Math':[100,80,90],\n",
    "                  'English':[60,50,70]},\n",
    "                 index=['A','B','C'])"
   ]
  },
  {
   "cell_type": "code",
   "execution_count": 61,
   "id": "f2b81f43",
   "metadata": {},
   "outputs": [
    {
     "data": {
      "text/html": [
       "<div>\n",
       "<style scoped>\n",
       "    .dataframe tbody tr th:only-of-type {\n",
       "        vertical-align: middle;\n",
       "    }\n",
       "\n",
       "    .dataframe tbody tr th {\n",
       "        vertical-align: top;\n",
       "    }\n",
       "\n",
       "    .dataframe thead th {\n",
       "        text-align: right;\n",
       "    }\n",
       "</style>\n",
       "<table border=\"1\" class=\"dataframe\">\n",
       "  <thead>\n",
       "    <tr style=\"text-align: right;\">\n",
       "      <th></th>\n",
       "      <th>Math</th>\n",
       "      <th>English</th>\n",
       "    </tr>\n",
       "  </thead>\n",
       "  <tbody>\n",
       "    <tr>\n",
       "      <th>A</th>\n",
       "      <td>100</td>\n",
       "      <td>60</td>\n",
       "    </tr>\n",
       "    <tr>\n",
       "      <th>B</th>\n",
       "      <td>80</td>\n",
       "      <td>50</td>\n",
       "    </tr>\n",
       "    <tr>\n",
       "      <th>C</th>\n",
       "      <td>90</td>\n",
       "      <td>70</td>\n",
       "    </tr>\n",
       "  </tbody>\n",
       "</table>\n",
       "</div>"
      ],
      "text/plain": [
       "   Math  English\n",
       "A   100       60\n",
       "B    80       50\n",
       "C    90       70"
      ]
     },
     "execution_count": 61,
     "metadata": {},
     "output_type": "execute_result"
    }
   ],
   "source": [
    "df"
   ]
  },
  {
   "cell_type": "code",
   "execution_count": 62,
   "id": "37c21a08",
   "metadata": {},
   "outputs": [
    {
     "data": {
      "text/plain": [
       "<AxesSubplot:>"
      ]
     },
     "execution_count": 62,
     "metadata": {},
     "output_type": "execute_result"
    },
    {
     "data": {
      "image/png": "[encoded data removed]",
      "text/plain": [
       "<Figure size 432x288 with 2 Axes>"
      ]
     },
     "metadata": {},
     "output_type": "display_data"
    }
   ],
   "source": [
    "sns.heatmap(df)"
   ]
  },
  {
   "cell_type": "code",
   "execution_count": 63,
   "id": "6fcf4f14",
   "metadata": {},
   "outputs": [
    {
     "data": {
      "text/plain": [
       "([<matplotlib.axis.XTick at 0x14d1bbf2100>,\n",
       "  <matplotlib.axis.XTick at 0x14d1bbf20d0>],\n",
       " [Text(0.5, 0, ''), Text(1.5, 0, '영어')])"
      ]
     },
     "execution_count": 63,
     "metadata": {},
     "output_type": "execute_result"
    },
    {
     "name": "stderr",
     "output_type": "stream",
     "text": [
      "C:\\Users\\user\\anaconda3\\lib\\site-packages\\IPython\\core\\pylabtools.py:151: UserWarning: Glyph 50689 (\\N{HANGUL SYLLABLE YEONG}) missing from current font.\n",
      "  fig.canvas.print_figure(bytes_io, **kw)\n",
      "C:\\Users\\user\\anaconda3\\lib\\site-packages\\IPython\\core\\pylabtools.py:151: UserWarning: Glyph 50612 (\\N{HANGUL SYLLABLE EO}) missing from current font.\n",
      "  fig.canvas.print_figure(bytes_io, **kw)\n"
     ]
    },
    {
     "data": {
      "image/png": "[encoded data removed]",
      "text/plain": [
       "<Figure size 432x288 with 2 Axes>"
      ]
     },
     "metadata": {},
     "output_type": "display_data"
    }
   ],
   "source": [
    "sns.heatmap(df)\n",
    "plt.xticks([0.5,1.5],['', '영어'])"
   ]
  },
  {
   "cell_type": "code",
   "execution_count": 64,
   "id": "7d81c9df",
   "metadata": {},
   "outputs": [
    {
     "data": {
      "text/plain": [
       "<AxesSubplot:>"
      ]
     },
     "execution_count": 64,
     "metadata": {},
     "output_type": "execute_result"
    },
    {
     "data": {
      "image/png": "[encoded data removed]",
      "text/plain": [
       "<Figure size 432x288 with 2 Axes>"
      ]
     },
     "metadata": {},
     "output_type": "display_data"
    }
   ],
   "source": [
    "#데이터 표시! annot True 박스와 대응되는 데이터 표시 , fmt 데이터를 어떻게 표시할지 d 정수, .3f 소수점 셋째 \n",
    "sns.heatmap(df, annot= True, fmt='d')"
   ]
  },
  {
   "cell_type": "code",
   "execution_count": 65,
   "id": "b596298b",
   "metadata": {},
   "outputs": [
    {
     "data": {
      "text/plain": [
       "<AxesSubplot:>"
      ]
     },
     "execution_count": 65,
     "metadata": {},
     "output_type": "execute_result"
    },
    {
     "data": {
      "image/png": "[encoded data removed]",
      "text/plain": [
       "<Figure size 432x288 with 2 Axes>"
      ]
     },
     "metadata": {},
     "output_type": "display_data"
    }
   ],
   "source": [
    "#데이터 표시! annot True 박스와 대응되는 데이터 표시 , fmt 데이터를 어떻게 표시할지 d 정수, .3f 소수점 셋째 \n",
    "sns.heatmap(df, annot= True, fmt='d', linewidth = 1, linecolor='black')"
   ]
  },
  {
   "cell_type": "code",
   "execution_count": 66,
   "id": "4a278c92",
   "metadata": {},
   "outputs": [
    {
     "data": {
      "text/plain": [
       "<AxesSubplot:>"
      ]
     },
     "execution_count": 66,
     "metadata": {},
     "output_type": "execute_result"
    },
    {
     "data": {
      "image/png": "[encoded data removed]",
      "text/plain": [
       "<Figure size 432x288 with 2 Axes>"
      ]
     },
     "metadata": {},
     "output_type": "display_data"
    }
   ],
   "source": [
    "# 컬럽맵 Greys, Blues, Reds \n",
    "sns.heatmap(df, annot= True, fmt='d', linewidth = 1, linecolor='black', cmap='Blues')"
   ]
  },
  {
   "cell_type": "code",
   "execution_count": null,
   "id": "fd4bf312",
   "metadata": {},
   "outputs": [],
   "source": []
  }
 ],
 "metadata": {
  "kernelspec": {
   "display_name": "Python 3 (ipykernel)",
   "language": "python",
   "name": "python3"
  },
  "language_info": {
   "codemirror_mode": {
    "name": "ipython",
    "version": 3
   },
   "file_extension": ".py",
   "mimetype": "text/x-python",
   "name": "python",
   "nbconvert_exporter": "python",
   "pygments_lexer": "ipython3",
   "version": "3.9.12"
  },
  "toc": {
   "base_numbering": 1,
   "nav_menu": {},
   "number_sections": true,
   "sideBar": true,
   "skip_h1_title": false,
   "title_cell": "Table of Contents",
   "title_sidebar": "Contents",
   "toc_cell": false,
   "toc_position": {
    "height": "calc(100% - 180px)",
    "left": "10px",
    "top": "150px",
    "width": "341.333px"
   },
   "toc_section_display": true,
   "toc_window_display": false
  }
 },
 "nbformat": 4,
 "nbformat_minor": 5
}
