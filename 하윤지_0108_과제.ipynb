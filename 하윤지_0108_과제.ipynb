{
 "cells": [
  {
   "cell_type": "markdown",
   "id": "17373cd9",
   "metadata": {},
   "source": [
    "과제1: 시리즈 메서드 모두 사용"
   ]
  },
  {
   "cell_type": "code",
   "execution_count": 1,
   "id": "f3897447",
   "metadata": {},
   "outputs": [],
   "source": [
    "import pandas as pd\n",
    "df_cl=pd.DataFrame({'class':['1반','2반','3반'],\n",
    "                   'name':['홍길동','김영희','김철수'],\n",
    "                    '영어':[50,60,70],\n",
    "                     '수학':[100,90,80]})"
   ]
  },
  {
   "cell_type": "code",
   "execution_count": 7,
   "id": "cd92bfaa",
   "metadata": {},
   "outputs": [],
   "source": [
    "clel=df_cl['영어']\n",
    "clel2=df_cl['수학']"
   ]
  },
  {
   "cell_type": "code",
   "execution_count": 8,
   "id": "1e6b0a80",
   "metadata": {},
   "outputs": [
    {
     "name": "stderr",
     "output_type": "stream",
     "text": [
      "C:\\Users\\Public\\Documents\\ESTsoft\\CreatorTemp\\ipykernel_12112\\2220598260.py:1: FutureWarning: The series.append method is deprecated and will be removed from pandas in a future version. Use pandas.concat instead.\n",
      "  clel2.append(clel)\n"
     ]
    },
    {
     "data": {
      "text/plain": [
       "0    100\n",
       "1     90\n",
       "2     80\n",
       "0     50\n",
       "1     60\n",
       "2     70\n",
       "dtype: int64"
      ]
     },
     "execution_count": 8,
     "metadata": {},
     "output_type": "execute_result"
    }
   ],
   "source": [
    "clel2.append(clel)"
   ]
  },
  {
   "cell_type": "code",
   "execution_count": 9,
   "id": "c9692cd5",
   "metadata": {},
   "outputs": [
    {
     "data": {
      "text/plain": [
       "count     3.0\n",
       "mean     60.0\n",
       "std      10.0\n",
       "min      50.0\n",
       "25%      55.0\n",
       "50%      60.0\n",
       "75%      65.0\n",
       "max      70.0\n",
       "Name: 영어, dtype: float64"
      ]
     },
     "execution_count": 9,
     "metadata": {},
     "output_type": "execute_result"
    }
   ],
   "source": [
    "clel.describe()"
   ]
  },
  {
   "cell_type": "code",
   "execution_count": 10,
   "id": "2f06f886",
   "metadata": {},
   "outputs": [
    {
     "data": {
      "text/plain": [
       "0    50\n",
       "1    60\n",
       "2    70\n",
       "Name: 영어, dtype: int64"
      ]
     },
     "execution_count": 10,
     "metadata": {},
     "output_type": "execute_result"
    }
   ],
   "source": [
    "clel.drop_duplicates()"
   ]
  },
  {
   "cell_type": "code",
   "execution_count": 12,
   "id": "615d0e79",
   "metadata": {},
   "outputs": [
    {
     "data": {
      "text/plain": [
       "<bound method NDFrame.equals of 0    50\n",
       "1    60\n",
       "2    70\n",
       "Name: 영어, dtype: int64>"
      ]
     },
     "execution_count": 12,
     "metadata": {},
     "output_type": "execute_result"
    }
   ],
   "source": [
    "clel.equals"
   ]
  },
  {
   "cell_type": "code",
   "execution_count": 18,
   "id": "bea324b3",
   "metadata": {},
   "outputs": [
    {
     "data": {
      "text/plain": [
       "array([50, 60, 70], dtype=int64)"
      ]
     },
     "execution_count": 18,
     "metadata": {},
     "output_type": "execute_result"
    }
   ],
   "source": [
    "clel.values"
   ]
  },
  {
   "cell_type": "code",
   "execution_count": 26,
   "id": "24f4fe4d",
   "metadata": {},
   "outputs": [
    {
     "data": {
      "text/plain": [
       "<bound method Series.isin of 0    50\n",
       "1    60\n",
       "2    70\n",
       "Name: 영어, dtype: int64>"
      ]
     },
     "execution_count": 26,
     "metadata": {},
     "output_type": "execute_result"
    }
   ],
   "source": [
    "clel.isin"
   ]
  },
  {
   "cell_type": "code",
   "execution_count": 24,
   "id": "3c79981b",
   "metadata": {},
   "outputs": [
    {
     "data": {
      "text/plain": [
       "50"
      ]
     },
     "execution_count": 24,
     "metadata": {},
     "output_type": "execute_result"
    }
   ],
   "source": [
    "clel.min()"
   ]
  },
  {
   "cell_type": "code",
   "execution_count": 23,
   "id": "edebde33",
   "metadata": {},
   "outputs": [
    {
     "data": {
      "text/plain": [
       "70"
      ]
     },
     "execution_count": 23,
     "metadata": {},
     "output_type": "execute_result"
    }
   ],
   "source": [
    "clel.max()"
   ]
  },
  {
   "cell_type": "code",
   "execution_count": 22,
   "id": "6c80f184",
   "metadata": {},
   "outputs": [
    {
     "data": {
      "text/plain": [
       "60.0"
      ]
     },
     "execution_count": 22,
     "metadata": {},
     "output_type": "execute_result"
    }
   ],
   "source": [
    "clel.mean()"
   ]
  },
  {
   "cell_type": "code",
   "execution_count": 27,
   "id": "13b05768",
   "metadata": {},
   "outputs": [
    {
     "data": {
      "text/plain": [
       "(10.0, 100.0)"
      ]
     },
     "execution_count": 27,
     "metadata": {},
     "output_type": "execute_result"
    }
   ],
   "source": [
    "clel.std(),clel.var()"
   ]
  },
  {
   "cell_type": "code",
   "execution_count": 28,
   "id": "f82385b2",
   "metadata": {},
   "outputs": [
    {
     "data": {
      "text/plain": [
       "60.0"
      ]
     },
     "execution_count": 28,
     "metadata": {},
     "output_type": "execute_result"
    }
   ],
   "source": [
    "clel.median()"
   ]
  },
  {
   "cell_type": "code",
   "execution_count": 29,
   "id": "b3869232",
   "metadata": {},
   "outputs": [
    {
     "data": {
      "text/plain": [
       "0    90\n",
       "1    60\n",
       "2    70\n",
       "Name: 영어, dtype: int64"
      ]
     },
     "execution_count": 29,
     "metadata": {},
     "output_type": "execute_result"
    }
   ],
   "source": [
    "clel.replace(50,90)"
   ]
  },
  {
   "cell_type": "code",
   "execution_count": 30,
   "id": "6f36d42e",
   "metadata": {},
   "outputs": [
    {
     "data": {
      "text/plain": [
       "<bound method Series.sort_values of 0    50\n",
       "1    60\n",
       "2    70\n",
       "Name: 영어, dtype: int64>"
      ]
     },
     "execution_count": 30,
     "metadata": {},
     "output_type": "execute_result"
    }
   ],
   "source": [
    "clel.sort_values"
   ]
  },
  {
   "cell_type": "code",
   "execution_count": 31,
   "id": "50751b60",
   "metadata": {},
   "outputs": [
    {
     "data": {
      "text/html": [
       "<div>\n",
       "<style scoped>\n",
       "    .dataframe tbody tr th:only-of-type {\n",
       "        vertical-align: middle;\n",
       "    }\n",
       "\n",
       "    .dataframe tbody tr th {\n",
       "        vertical-align: top;\n",
       "    }\n",
       "\n",
       "    .dataframe thead th {\n",
       "        text-align: right;\n",
       "    }\n",
       "</style>\n",
       "<table border=\"1\" class=\"dataframe\">\n",
       "  <thead>\n",
       "    <tr style=\"text-align: right;\">\n",
       "      <th></th>\n",
       "      <th>영어</th>\n",
       "    </tr>\n",
       "  </thead>\n",
       "  <tbody>\n",
       "    <tr>\n",
       "      <th>0</th>\n",
       "      <td>50</td>\n",
       "    </tr>\n",
       "    <tr>\n",
       "      <th>1</th>\n",
       "      <td>60</td>\n",
       "    </tr>\n",
       "    <tr>\n",
       "      <th>2</th>\n",
       "      <td>70</td>\n",
       "    </tr>\n",
       "  </tbody>\n",
       "</table>\n",
       "</div>"
      ],
      "text/plain": [
       "   영어\n",
       "0  50\n",
       "1  60\n",
       "2  70"
      ]
     },
     "execution_count": 31,
     "metadata": {},
     "output_type": "execute_result"
    }
   ],
   "source": [
    "clel.to_frame()"
   ]
  },
  {
   "cell_type": "markdown",
   "id": "2cbb9e37",
   "metadata": {},
   "source": [
    "과제2:축전환(x축과 y축의 범위를 반대로 뒤집기)"
   ]
  },
  {
   "cell_type": "code",
   "execution_count": 35,
   "id": "6ef9d17e",
   "metadata": {},
   "outputs": [
    {
     "data": {
      "text/plain": [
       "(15.0, 0.0)"
      ]
     },
     "execution_count": 35,
     "metadata": {},
     "output_type": "execute_result"
    },
    {
     "data": {
      "image/png": "[encoded data removed]",
      "text/plain": [
       "<Figure size 432x288 with 1 Axes>"
      ]
     },
     "metadata": {
      "needs_background": "light"
     },
     "output_type": "display_data"
    }
   ],
   "source": [
    "from matplotlib import pyplot as plt\n",
    "plt.scatter([4,5,2],[1,2,3])\n",
    "plt.scatter([3,6,2],[8,9,5])\n",
    "\n",
    "plt.xlim(10,0)\n",
    "plt.ylim(15,0)"
   ]
  },
  {
   "cell_type": "markdown",
   "id": "8fdbd730",
   "metadata": {},
   "source": [
    "과제3: sns.set() 다양한 함수들을 찾아서 5개 이상 공유해주세요"
   ]
  },
  {
   "cell_type": "code",
   "execution_count": 38,
   "id": "0cec415c",
   "metadata": {},
   "outputs": [
    {
     "data": {
      "image/png": "[encoded data removed]",
      "text/plain": [
       "<Figure size 432x288 with 1 Axes>"
      ]
     },
     "metadata": {},
     "output_type": "display_data"
    }
   ],
   "source": [
    "import seaborn as sns\n",
    "plt.scatter([4,5,2],[1,2,3])\n",
    "plt.scatter([3,6,2],[8,9,5])\n",
    "sns.set_style(\"darkgrid\")"
   ]
  },
  {
   "cell_type": "code",
   "execution_count": 42,
   "id": "67889542",
   "metadata": {},
   "outputs": [
    {
     "data": {
      "image/png": "[encoded data removed]",
      "text/plain": [
       "<Figure size 432x288 with 1 Axes>"
      ]
     },
     "metadata": {},
     "output_type": "display_data"
    }
   ],
   "source": [
    "plt.scatter([4,5,2],[1,2,3])\n",
    "plt.scatter([3,6,2],[8,9,5])\n",
    "sns.set_style(\"whitegrid\")"
   ]
  },
  {
   "cell_type": "code",
   "execution_count": 44,
   "id": "9c840a5a",
   "metadata": {},
   "outputs": [
    {
     "data": {
      "image/png": "[encoded data removed]",
      "text/plain": [
       "<Figure size 432x288 with 1 Axes>"
      ]
     },
     "metadata": {},
     "output_type": "display_data"
    }
   ],
   "source": [
    "plt.scatter([4,5,2],[1,2,3])\n",
    "plt.scatter([3,6,2],[8,9,5])\n",
    "sns.set_style(\"white\")"
   ]
  },
  {
   "cell_type": "code",
   "execution_count": 48,
   "id": "b30dfc06",
   "metadata": {},
   "outputs": [
    {
     "data": {
      "image/png": "[encoded data removed]",
      "text/plain": [
       "<Figure size 432x288 with 1 Axes>"
      ]
     },
     "metadata": {},
     "output_type": "display_data"
    }
   ],
   "source": [
    "plt.scatter([4,5,2],[1,2,3])\n",
    "plt.scatter([3,6,2],[8,9,5])\n",
    "\n",
    "sns.set_context(\"paper\")"
   ]
  },
  {
   "cell_type": "code",
   "execution_count": 49,
   "id": "da1a8e06",
   "metadata": {},
   "outputs": [
    {
     "data": {
      "image/png": "[encoded data removed]",
      "text/plain": [
       "<Figure size 432x288 with 1 Axes>"
      ]
     },
     "metadata": {},
     "output_type": "display_data"
    }
   ],
   "source": [
    "plt.scatter([4,5,2],[1,2,3])\n",
    "plt.scatter([3,6,2],[8,9,5])\n",
    "\n",
    "sns.set_context(\"poster\")"
   ]
  },
  {
   "cell_type": "markdown",
   "id": "8876a94e",
   "metadata": {},
   "source": [
    "과제4: 재무제표 데이터를 시각화로 표현"
   ]
  },
  {
   "cell_type": "markdown",
   "id": "189d2dd2",
   "metadata": {},
   "source": [
    "가설을 설정, 분석 목적을 정하고 시각화를 진행해서 나온 결과를 해석하는 글과 함께 코드를 작성해 주세요."
   ]
  },
  {
   "cell_type": "code",
   "execution_count": 65,
   "id": "21f91c6e",
   "metadata": {},
   "outputs": [],
   "source": [
    "import platform\n",
    "from matplotlib import font_manager, rc\n",
    "if platform.system() == 'Windows':\n",
    "    font_name = font_manager.FontProperties(fname=\"c:/Windows/Fonts/malgun.ttf\").get_name()\n",
    "    rc('font', family = font_name)\n",
    "else:\n",
    "    rc('font',family='AppleGothic')\n",
    "    \n",
    "plt.rcParams['axes.unicode_minus']=False\n",
    "%matplotlib inline"
   ]
  },
  {
   "cell_type": "code",
   "execution_count": 56,
   "id": "a816b7f1",
   "metadata": {},
   "outputs": [
    {
     "data": {
      "text/html": [
       "<div>\n",
       "<style scoped>\n",
       "    .dataframe tbody tr th:only-of-type {\n",
       "        vertical-align: middle;\n",
       "    }\n",
       "\n",
       "    .dataframe tbody tr th {\n",
       "        vertical-align: top;\n",
       "    }\n",
       "\n",
       "    .dataframe thead th {\n",
       "        text-align: right;\n",
       "    }\n",
       "</style>\n",
       "<table border=\"1\" class=\"dataframe\">\n",
       "  <thead>\n",
       "    <tr style=\"text-align: right;\">\n",
       "      <th></th>\n",
       "      <th>연도</th>\n",
       "      <th>자산총계</th>\n",
       "      <th>부채총계</th>\n",
       "      <th>자본총계</th>\n",
       "      <th>매출액</th>\n",
       "      <th>영업이익</th>\n",
       "      <th>당기순이익</th>\n",
       "      <th>부채비율</th>\n",
       "    </tr>\n",
       "  </thead>\n",
       "  <tbody>\n",
       "    <tr>\n",
       "      <th>0</th>\n",
       "      <td>2016</td>\n",
       "      <td>9.776068e+10</td>\n",
       "      <td>23419492827</td>\n",
       "      <td>7.434119e+10</td>\n",
       "      <td>9.499312e+10</td>\n",
       "      <td>2379822965</td>\n",
       "      <td>480426339</td>\n",
       "      <td>76.044057</td>\n",
       "    </tr>\n",
       "    <tr>\n",
       "      <th>1</th>\n",
       "      <td>2017</td>\n",
       "      <td>1.043490e+11</td>\n",
       "      <td>23398872100</td>\n",
       "      <td>8.095035e+10</td>\n",
       "      <td>1.207350e+11</td>\n",
       "      <td>6987071352</td>\n",
       "      <td>7797097354</td>\n",
       "      <td>77.576381</td>\n",
       "    </tr>\n",
       "    <tr>\n",
       "      <th>2</th>\n",
       "      <td>2018</td>\n",
       "      <td>1.255730e+11</td>\n",
       "      <td>24027374437</td>\n",
       "      <td>1.015450e+11</td>\n",
       "      <td>1.633750e+11</td>\n",
       "      <td>6412992156</td>\n",
       "      <td>4153603488</td>\n",
       "      <td>80.865781</td>\n",
       "    </tr>\n",
       "    <tr>\n",
       "      <th>3</th>\n",
       "      <td>2019</td>\n",
       "      <td>1.361390e+11</td>\n",
       "      <td>34941404675</td>\n",
       "      <td>1.011980e+11</td>\n",
       "      <td>1.915460e+11</td>\n",
       "      <td>3664066464</td>\n",
       "      <td>3181392223</td>\n",
       "      <td>74.334031</td>\n",
       "    </tr>\n",
       "    <tr>\n",
       "      <th>4</th>\n",
       "      <td>2020</td>\n",
       "      <td>1.446900e+11</td>\n",
       "      <td>35459747467</td>\n",
       "      <td>1.092300e+11</td>\n",
       "      <td>2.662270e+11</td>\n",
       "      <td>7227983716</td>\n",
       "      <td>6501208590</td>\n",
       "      <td>75.492644</td>\n",
       "    </tr>\n",
       "  </tbody>\n",
       "</table>\n",
       "</div>"
      ],
      "text/plain": [
       "     연도          자산총계         부채총계          자본총계           매출액        영업이익  \\\n",
       "0  2016  9.776068e+10  23419492827  7.434119e+10  9.499312e+10  2379822965   \n",
       "1  2017  1.043490e+11  23398872100  8.095035e+10  1.207350e+11  6987071352   \n",
       "2  2018  1.255730e+11  24027374437  1.015450e+11  1.633750e+11  6412992156   \n",
       "3  2019  1.361390e+11  34941404675  1.011980e+11  1.915460e+11  3664066464   \n",
       "4  2020  1.446900e+11  35459747467  1.092300e+11  2.662270e+11  7227983716   \n",
       "\n",
       "        당기순이익       부채비율  \n",
       "0   480426339  76.044057  \n",
       "1  7797097354  77.576381  \n",
       "2  4153603488  80.865781  \n",
       "3  3181392223  74.334031  \n",
       "4  6501208590  75.492644  "
      ]
     },
     "execution_count": 56,
     "metadata": {},
     "output_type": "execute_result"
    }
   ],
   "source": [
    "df = pd.read_csv('재무제표샘플_대원미디어.csv',encoding='cp949')\n",
    "df"
   ]
  },
  {
   "cell_type": "code",
   "execution_count": 57,
   "id": "7bb9a762",
   "metadata": {},
   "outputs": [],
   "source": [
    "#가설1: 매출액과 영업이익이 양의 상관관계가 있을 것이다."
   ]
  },
  {
   "cell_type": "code",
   "execution_count": 66,
   "id": "4aca1b31",
   "metadata": {
    "scrolled": true
   },
   "outputs": [
    {
     "data": {
      "text/plain": [
       "<matplotlib.legend.Legend at 0x2b6bc417550>"
      ]
     },
     "execution_count": 66,
     "metadata": {},
     "output_type": "execute_result"
    },
    {
     "data": {
      "image/png": "[encoded data removed]",
      "text/plain": [
       "<Figure size 432x288 with 1 Axes>"
      ]
     },
     "metadata": {
      "needs_background": "light"
     },
     "output_type": "display_data"
    }
   ],
   "source": [
    "plt.plot(df['매출액'], color = 'blue', label= '매출액')\n",
    "plt.plot(df['영업이익'], color = 'brown', label= '영업이익')\n",
    "plt.legend()\n",
    "#결과: 양의 상관관계가 있다고 보기 어렵다"
   ]
  },
  {
   "cell_type": "code",
   "execution_count": 68,
   "id": "727dbf95",
   "metadata": {},
   "outputs": [
    {
     "data": {
      "text/plain": [
       "<BarContainer object of 5 artists>"
      ]
     },
     "execution_count": 68,
     "metadata": {},
     "output_type": "execute_result"
    },
    {
     "data": {
      "image/png": "[encoded data removed]",
      "text/plain": [
       "<Figure size 432x288 with 1 Axes>"
      ]
     },
     "metadata": {
      "needs_background": "light"
     },
     "output_type": "display_data"
    }
   ],
   "source": [
    "#가설2: 2020년에 부채비율이 가장 클 것이다.\n",
    "plt.bar(df['연도'], df['부채비율'])\n",
    "#결과해석: 2018년에 가장 크다"
   ]
  },
  {
   "cell_type": "code",
   "execution_count": 69,
   "id": "cacc9403",
   "metadata": {},
   "outputs": [],
   "source": [
    "#가설3: 자산총계와 매출액은 상관관계가 가장 적을 것이다."
   ]
  },
  {
   "cell_type": "code",
   "execution_count": 83,
   "id": "54670dfb",
   "metadata": {},
   "outputs": [
    {
     "data": {
      "text/plain": [
       "<AxesSubplot:>"
      ]
     },
     "execution_count": 83,
     "metadata": {},
     "output_type": "execute_result"
    },
    {
     "data": {
      "image/png": "[encoded data removed]",
      "text/plain": [
       "<Figure size 432x288 with 2 Axes>"
      ]
     },
     "metadata": {
      "needs_background": "light"
     },
     "output_type": "display_data"
    }
   ],
   "source": [
    "sns.heatmap(df.corr())\n",
    "# 매출액과 상관관계가 가장 적은 것은 부채비율이다."
   ]
  },
  {
   "cell_type": "code",
   "execution_count": null,
   "id": "46cf00c7",
   "metadata": {},
   "outputs": [],
   "source": []
  }
 ],
 "metadata": {
  "kernelspec": {
   "display_name": "Python 3 (ipykernel)",
   "language": "python",
   "name": "python3"
  },
  "language_info": {
   "codemirror_mode": {
    "name": "ipython",
    "version": 3
   },
   "file_extension": ".py",
   "mimetype": "text/x-python",
   "name": "python",
   "nbconvert_exporter": "python",
   "pygments_lexer": "ipython3",
   "version": "3.9.12"
  },
  "toc": {
   "base_numbering": 1,
   "nav_menu": {},
   "number_sections": true,
   "sideBar": true,
   "skip_h1_title": false,
   "title_cell": "Table of Contents",
   "title_sidebar": "Contents",
   "toc_cell": false,
   "toc_position": {},
   "toc_section_display": true,
   "toc_window_display": false
  }
 },
 "nbformat": 4,
 "nbformat_minor": 5
}
